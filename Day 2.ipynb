{
 "cells": [
  {
   "cell_type": "markdown",
   "id": "9f9235c8",
   "metadata": {},
   "source": [
    "control statements\n",
    "- sequential \n",
    "- conditional\n",
    "  - selection (branching) if: else: elif: switch:\n",
    "  - iteration (looping) for while\n",
    "- unconditional # break continue"
   ]
  },
  {
   "cell_type": "code",
   "execution_count": null,
   "id": "56a6db18",
   "metadata": {},
   "outputs": [],
   "source": [
    "var1,var2=100,200\n",
    "# > < >= <= == != relational operators\n",
    "\"\"\"\n",
    "if var1 > var2:\n",
    "    print(f\"{var1} is greater\")\n",
    "else:\n",
    "    print(f\"{var2} is greater\")\n",
    "\"\"\"\n",
    "print(f\" greater is {max(var1,var2)}\")"
   ]
  },
  {
   "cell_type": "code",
   "execution_count": null,
   "id": "1eccb770",
   "metadata": {},
   "outputs": [],
   "source": [
    "var1,var2,var3=100,200,300\n",
    "# and or logical operators\n",
    "\n",
    "if var1 > var2 and var1 > var3:\n",
    "    print(f\"{var1} is greater\")\n",
    "elif var2 > var1 and var2 > var3:\n",
    "    print(f\"{var2} is greater\")\n",
    "else:\n",
    "    print(f\"{var3} is greater\")\n",
    "    \n",
    "print(f\" greater is {max(var1,var2,var3)}\")"
   ]
  },
  {
   "cell_type": "code",
   "execution_count": null,
   "id": "6a258d5f",
   "metadata": {},
   "outputs": [],
   "source": [
    "var1,var2,var3=100,200,300\n",
    "# operators can be chained in python\n",
    "if var1 > var2 > var3:\n",
    "    print(f\"{var1} is greater\")\n",
    "elif var2 > var1 > var3:\n",
    "    print(f\"{var2} is greater\")\n",
    "else:\n",
    "    print(f\"{var3} is greater\")"
   ]
  },
  {
   "cell_type": "code",
   "execution_count": null,
   "id": "0f412a91",
   "metadata": {},
   "outputs": [],
   "source": [
    "# any(collection) all(collection)\n",
    "numbers=[[],{},(),0,0.0,None,False,1]\n",
    "\n",
    "if(any(numbers)):\n",
    "    print(\"any() iterates values and returns boolean\")\n",
    "else:\n",
    "    print(\"Here all values in list return boolean False\")"
   ]
  },
  {
   "cell_type": "code",
   "execution_count": null,
   "id": "6d0e41c3",
   "metadata": {},
   "outputs": [],
   "source": [
    "if 10<20 and 30>10 and 500>100: # c style of writing code\n",
    "    print(\"and operator requires all conditons to be True\")\n",
    "    \n",
    "if all((10<20,30>10,500>100)): # pythonic way of writing code\n",
    "    print(\"all operator requires all conditons to be True\")\n",
    "    \n",
    "if 10<20 or 30>10 or 500>100:\n",
    "    print(\"or operator requires one of the conditons to be True\")\n",
    "    \n",
    "if any((10<20,30>10,500>100)):\n",
    "    print(\"any function requires one of the conditons to be True\")"
   ]
  },
  {
   "cell_type": "code",
   "execution_count": null,
   "id": "031c04a0",
   "metadata": {},
   "outputs": [],
   "source": [
    "var1,var2,var3=10,20,30\n",
    "\n",
    "if var1 > var2:\n",
    "    if var1 > var3:\n",
    "        print(f\"{var1} is greater\")\n",
    "    else:\n",
    "        print(f\"{var3} is greater\")\n",
    "else:\n",
    "    if var2 > var3:\n",
    "        print(f\"{var2} is greater\")\n",
    "    else:\n",
    "        print(f\"{var3} is greater\")"
   ]
  },
  {
   "cell_type": "code",
   "execution_count": null,
   "id": "513adb1b",
   "metadata": {},
   "outputs": [],
   "source": [
    "# identity operators are used to check the data types of object \n",
    "# is and is not\n",
    "employees=[\"sagar\",\"neha\"]\n",
    "emp_ids=(1000,2000)\n",
    "\n",
    "if type(employees) is list:\n",
    "    print(\"you are using list for sure!\")\n",
    "if type(emp_ids) is not list:\n",
    "    print(\"you are not using list for sure!\")"
   ]
  },
  {
   "cell_type": "code",
   "execution_count": null,
   "id": "3c4217d5",
   "metadata": {},
   "outputs": [],
   "source": [
    "# membership operators in and not in\n",
    "python_version=[3.6,3.7,3.8,3.9,3.10]\n",
    "\n",
    "current_version=float(input(\"Enter your version of python \"))\n",
    "\n",
    "if current_version in python_version:\n",
    "    print(\"f-strings are supported in your version\")\n",
    "else:\n",
    "    print(\"please use str.format()\")"
   ]
  },
  {
   "cell_type": "code",
   "execution_count": null,
   "id": "8069114d",
   "metadata": {},
   "outputs": [],
   "source": [
    "players={10:\"sachin\",7:\"dhoni\"}\n",
    "\n",
    "for jersey,player in players.items():\n",
    "    if jersey == 10:\n",
    "        print(\"jersey is present\")\n",
    "    if player == \"dhoni\":\n",
    "        print(\"Player is present\")"
   ]
  },
  {
   "cell_type": "code",
   "execution_count": null,
   "id": "99106719",
   "metadata": {},
   "outputs": [],
   "source": [
    "admin_users=[\"admin\",\"root\",\"administrator\",\"deva\"]\n",
    "\n",
    "user=input(\"Enter your user name \")\n",
    "\n",
    "if user in admin_users:\n",
    "    print(\"You can run admin commands\")\n",
    "else:\n",
    "    print(\"you have guest privileges!\")"
   ]
  },
  {
   "cell_type": "code",
   "execution_count": null,
   "id": "2c376943",
   "metadata": {},
   "outputs": [],
   "source": [
    "\"\"\"\n",
    "fact=1\n",
    "num=int(input(\"Enter any number :\"))\n",
    "while num > 0:\n",
    "    fact*=num\n",
    "    num-=1\n",
    "print(f\"factorial is {fact}\")\n",
    "\"\"\"\n",
    "import math\n",
    "\n",
    "print(f\"factorial is {math.factorial(5)}\")"
   ]
  },
  {
   "cell_type": "code",
   "execution_count": null,
   "id": "089b3bc1",
   "metadata": {},
   "outputs": [],
   "source": [
    "i=2\n",
    "num=int(input(\"Enter any number \"))\n",
    "while num > i:\n",
    "    if num % i==0:\n",
    "        print(\"Not prime\")\n",
    "        break\n",
    "    i+=1\n",
    "if num == i:\n",
    "    print(\"Prime\")"
   ]
  },
  {
   "cell_type": "code",
   "execution_count": null,
   "id": "c5f15e9f",
   "metadata": {},
   "outputs": [],
   "source": [
    "# print first 25 prime numbers\n",
    "# type of triangle equilateral, isosles, scalene\n",
    "# print all armstrong numbers (1*1*1)+(5*5*5)+(3*3*3)==153 from 0 to 1000"
   ]
  },
  {
   "cell_type": "code",
   "execution_count": null,
   "id": "5d2e3914",
   "metadata": {},
   "outputs": [],
   "source": [
    "list1=[10,20,30,40,50]\n",
    "for item in list1:\n",
    "    print(item,end=\" \")\n",
    "\n",
    "print(\" \")\n",
    "\n",
    "tuple1=(10,20,30,40,50)\n",
    "for item in tuple1:\n",
    "    print(item,end=\" \")\n",
    "\n",
    "print(\" \")\n",
    "set1={10,20,30,40,50}\n",
    "for item in set1:\n",
    "    print(item,end=\" \")\n",
    "\n",
    "print(\" \")\n",
    "\n",
    "India={\"maharashtra\":\"mumbai\",\n",
    "      \"karnataka\":\"banglore\",\n",
    "      \"tamilnadu\":\"chennai\", \n",
    "      }\n",
    "\n",
    "for states in India:\n",
    "    print(states) # only keys\n",
    "print(\" \")\n",
    "for states in India:\n",
    "    print(India[states]) # only values\n",
    "print(\" \")\n",
    "for states,cities in India.items():\n",
    "    print(f\"{states} {cities}\") # only values\n",
    "print(\" \")\n",
    "\n",
    "list1=[(10,20,30),[40,50,60],[70,80,90]]\n",
    "\n",
    "for rows in list1:\n",
    "    for items in rows:\n",
    "        print(items,end=\" \")\n",
    "    print(\" \")"
   ]
  },
  {
   "cell_type": "code",
   "execution_count": null,
   "id": "cb226308",
   "metadata": {},
   "outputs": [],
   "source": [
    "print(range(10)) # range is a builtin generator in python!"
   ]
  },
  {
   "cell_type": "code",
   "execution_count": null,
   "id": "d5cf402e",
   "metadata": {},
   "outputs": [],
   "source": [
    "#list1=[10,20,30]\n",
    "# Note: generators will not store any value unlike collections and are light weight\n",
    "# Generators will generate values based on request \n",
    "# There are two ways to access generators either use for loops or use next()\n",
    "for item in range(10): # 0..9\n",
    "    print(item,end=\" \")\n",
    "print(\" \")\n",
    "for item in range(5,21): # 5..20\n",
    "    print(item,end=\" \")\n",
    "print(\" \")\n",
    "for item in range(10,101,10): # 10,20..100  range(start:next_to_last:step_count)\n",
    "    print(item,end=\" \")"
   ]
  },
  {
   "cell_type": "code",
   "execution_count": null,
   "id": "29fafd37",
   "metadata": {},
   "outputs": [],
   "source": [
    "list1=[10,20,30,40,50]\n",
    "\n",
    "\"\"\"\n",
    "count=0\n",
    "for item in list1:\n",
    "    if item==50:\n",
    "        print(f\"position is {count} item is {item}\")     \n",
    "    count+=1\n",
    "\"\"\"\n",
    "# enumerate(collection) returns a tuple i.e. index and item\n",
    "for index,item in enumerate(list1):\n",
    "    print(f\"position is {index} item is {item}\") "
   ]
  },
  {
   "cell_type": "code",
   "execution_count": null,
   "id": "53b93aa3",
   "metadata": {},
   "outputs": [],
   "source": [
    "list1=[[10,20,30],[40,50,60],[70,80,90]]\n",
    "\n",
    "for i,rows in enumerate(list1):\n",
    "    for j,cols in enumerate(rows):\n",
    "        print(f\"list1[{i}][{j}]={cols}\",end=\" \")\n",
    "    print(\" \")"
   ]
  },
  {
   "cell_type": "code",
   "execution_count": null,
   "id": "cc95538f",
   "metadata": {},
   "outputs": [],
   "source": [
    "# comprehensions offer shorter syntax to create a new collection based on existing collections\n",
    "# list comprehensions # set comprehensions # dictionary comprehensions \n",
    "# There is no tuple comprehension bez it becomes a generator!\n",
    "\"\"\"\n",
    "list1=[]\n",
    "for item in range(6):\n",
    "    list1.append(item)\n",
    "print(list1)\n",
    "\"\"\"\n",
    "list1=[item for item in range(6)]\n",
    "print(list1)\n",
    "list1=[0 for item in range(6)]\n",
    "print(list1)\n",
    "list1=[item*item for item in range(6)]\n",
    "print(list1)\n",
    "list1=[item*item*item for item in range(6)]\n",
    "print(list1)"
   ]
  },
  {
   "cell_type": "code",
   "execution_count": null,
   "id": "f576e7f0",
   "metadata": {},
   "outputs": [],
   "source": [
    "colors=['Red','GREEN','bLuE']\n",
    "\n",
    "select_color=input(\"Enter your color \")\n",
    "\"\"\"\n",
    "colors_lower=[]\n",
    "for color in colors:\n",
    "    colors_lower.append(color.lower())\n",
    "print(colors_lower)\n",
    "\"\"\"\n",
    "colors_lower=[color.lower() for color in colors]\n",
    "\n",
    "if select_color.lower() in colors_lower:\n",
    "    print(f\"You have selected RGB\")\n",
    "else:\n",
    "    print(f\"you have not selected RGB\")"
   ]
  },
  {
   "cell_type": "code",
   "execution_count": null,
   "id": "525e3677",
   "metadata": {},
   "outputs": [],
   "source": [
    "even_numbers=[]\n",
    "odd_numbers=[]\n",
    "for item in range(1,21):\n",
    "    if item%2==0:\n",
    "        even_numbers.append(item)\n",
    "    else:\n",
    "        odd_numbers.append(item)\n",
    "\n",
    "even_numbers=[item for item in range(1,21)if item%2==0]\n",
    "odd_numbers=[item for item in range(1,21)if item%2!=0]\n",
    "print(even_numbers)\n",
    "print(odd_numbers)"
   ]
  },
  {
   "cell_type": "code",
   "execution_count": null,
   "id": "09b4af85",
   "metadata": {},
   "outputs": [],
   "source": [
    "# list comprehension\n",
    "even_numbers=[item for item in range(1,21)if item%2==0]\n",
    "print(even_numbers)\n",
    "# set comprehension\n",
    "even_numbers={item for item in range(1,21)if item%2==0}\n",
    "print(even_numbers)\n",
    "# generator \n",
    "even_numbers=(item for item in range(1,21)if item%2==0)\n",
    "print(even_numbers)\n",
    "for nums in even_numbers:\n",
    "    print(nums,end=\" \")"
   ]
  },
  {
   "cell_type": "code",
   "execution_count": null,
   "id": "d9c95380",
   "metadata": {},
   "outputs": [],
   "source": [
    "cricketers=['Virat','ROHIT','Bumrah','Gayle','Natarajan']\n",
    "batsman=['rohit','gayle','klrahul','virat','mayank']\n",
    "\"\"\"\n",
    "cricketers_lower=[]\n",
    "for player in cricketers:\n",
    "    if player.lower() in batsman:\n",
    "        cricketers_lower.append(player.lower())\n",
    "\"\"\"\n",
    "cricketers_lower=[player.lower() for player in cricketers if player.lower() in batsman]\n",
    "print(cricketers_lower)\n",
    "\n",
    "team=[player for player in cricketers if player.lower() in cricketers_lower]\n",
    "# Avoid nesting comprehensions \n",
    "# team=[player for player in cricketers if player.lower() in [player.lower() for player in cricketers if player.lower() in batsman]]\n",
    "print(team)\n",
    "\n",
    "cricketers={'Virat','ROHIT','Bumrah','Gayle','Natarajan'}\n",
    "batsman={'rohit','gayle','klrahul','virat','mayank'}\n",
    "cricketers_lower={player.lower() for player in cricketers if player.lower() in batsman}\n",
    "print(cricketers_lower)"
   ]
  },
  {
   "cell_type": "code",
   "execution_count": null,
   "id": "ad60e822",
   "metadata": {},
   "outputs": [],
   "source": [
    "cricketers=[\"sachin\",\"sehwag\",\"dhoni\"]\n",
    "jersey=[10,99,7]\n",
    "\n",
    "dream11={cricketers[item]:jersey[item] for item in range(len(cricketers))}\n",
    "print(dream11)\n",
    "\n",
    "# Note: zip(collection1,collection2) is an alternative to avoid dict comprehension\n",
    "# Note: pass zip() to dict ctor or list ctor to create list of tuples\n",
    "dream11=dict(zip(cricketers,jersey))\n",
    "print(dream11)"
   ]
  },
  {
   "cell_type": "code",
   "execution_count": null,
   "id": "39fe4fff",
   "metadata": {
    "scrolled": true
   },
   "outputs": [],
   "source": [
    "computer_names=[\"server1\",\"laptop1\",\"desktop1\"]\n",
    "ip_address=[\"10.0.0.1/8\",\"172.16.0.1/16\",\"192.168.0.1/24\"]\n",
    "regions=[\"mumbai\",\"north virginia\",\"ohio\"]\n",
    "\n",
    "print(list(zip(computer_names,ip_address,regions)))"
   ]
  },
  {
   "cell_type": "code",
   "execution_count": null,
   "id": "52a16dfc",
   "metadata": {},
   "outputs": [],
   "source": [
    "restaurants=[\n",
    "                {\"name\":\"ABC Farms\",\"address\":\"koregaon park\"},\n",
    "                {\"name\":\"prithvi\",\"address\":\"kothurd\"},\n",
    "                {\"name\":\"Good luck\",\"address\":\"deccan\"},\n",
    "                {\"name\":\"Barbeque Nation\",\"address\":\"deccan\"},\n",
    "                {\"name\":\"Nawab Asia\",\"address\":\"baner\"},\n",
    "                {\"name\":\"Barometer\",\"address\":\"kothrud\"}\n",
    "            ]\n",
    "your_location=input(\"Enter your location: \")\n",
    "\"\"\"\n",
    "resto_nearby=[]\n",
    "for resto in restaurants:\n",
    "    if your_location == resto[\"address\"]:\n",
    "        resto_nearby.append(resto[\"name\"])\n",
    "\"\"\"\n",
    "resto_nearby=[resto[\"name\"] for resto in restaurants if your_location == resto[\"address\"] ]\n",
    "if any(resto_nearby):\n",
    "    print(resto_nearby)\n",
    "else:\n",
    "    print(\"Please try a different location\")"
   ]
  },
  {
   "cell_type": "code",
   "execution_count": null,
   "id": "31c9be97",
   "metadata": {},
   "outputs": [],
   "source": [
    "restaurants={\n",
    "                \"koregaon park\":{\"Abc farms\"},\n",
    "                \"kothurd\":{\"prithvi\",\"barometer\"},\n",
    "                \"deccan\":{\"barbeque\",\"good luck\"}\n",
    "            }\n",
    "your_location=input(\"Enter your location: \")\n",
    "if your_location in restaurants.keys():\n",
    "    print(restaurants[your_location])\n",
    "else:\n",
    "    print(\"Please try a different location\")"
   ]
  },
  {
   "cell_type": "code",
   "execution_count": null,
   "id": "cc79ef37",
   "metadata": {},
   "outputs": [],
   "source": [
    "# By default every function in python returns None\n",
    "def function(): # function definition\n",
    "    print(\"Happy to create a function\")\n",
    "    \n",
    "var=function() # function call\n",
    "print(var)"
   ]
  },
  {
   "cell_type": "code",
   "execution_count": null,
   "id": "d7359631",
   "metadata": {},
   "outputs": [],
   "source": [
    "# Here function takes 2 arguments and returns a single value\n",
    "def add(a,b): \n",
    "    return a+b\n",
    "    \n",
    "result=add(100,200) # function call\n",
    "print(result)\n",
    "result=add(4.5,2.6) # function call\n",
    "print(result)\n",
    "result=add(\"sachin\",\"sehwag\") # function call\n",
    "print(result)\n",
    "result=add((10+3j),(4+1j)) # function call\n",
    "print(result)"
   ]
  },
  {
   "cell_type": "code",
   "execution_count": null,
   "id": "7e1671b1",
   "metadata": {},
   "outputs": [],
   "source": [
    "# only trailing args can be defaulted \n",
    "def show(x,y=\"sehwag\",z=1):\n",
    "    print(x,y,z)\n",
    "    \n",
    "show(10,\"sachin\",\"india\")\n",
    "show(10)"
   ]
  },
  {
   "cell_type": "code",
   "execution_count": null,
   "id": "1c073524",
   "metadata": {},
   "outputs": [],
   "source": [
    "def show(year=\"\",movie=\"\",actor=\"\"): # default arguments\n",
    "    print(f\"{actor} acts in {movie} released in {year}\")\n",
    "\n",
    "show(year=1990,movie=\"braveheart\",actor=\"melgibson\") # keyword arguments\n",
    "show(1990,\"braveheart\",actor=\"melgibson\") # mix of both unnamed args as well as keyword args\n",
    "#show(actor=\"melgibson\",1990,\"braveheart\") #SyntaxError: positional argument follows keyword argument\n",
    "# Note: always unnamed args first and then keyword args # order to be followed mandatory\n",
    "show(1995,\"phenomenon\",\"john travolta\") # unnamed arguments\n",
    "show(actor=\"john travolta\",year=1995,movie=\"phenomenon\") # keyword arguments can be in any order\n",
    "show() # uses default arguments!"
   ]
  },
  {
   "cell_type": "code",
   "execution_count": null,
   "id": "6c147ef9",
   "metadata": {},
   "outputs": [],
   "source": [
    "def var_args(*args): # Note: tuple can hold only unnamed args\n",
    "    #print(args,type(args))\n",
    "    for items in args:\n",
    "        print(items,end=\" \")\n",
    "    \n",
    "var_args(10,\"sachin\",\"india\")"
   ]
  },
  {
   "cell_type": "code",
   "execution_count": null,
   "id": "42efc525",
   "metadata": {},
   "outputs": [],
   "source": [
    "def var_args(**kwargs): # ** will create dict which can hold named arguments or keyword arguments\n",
    "    print(kwargs,type(kwargs))\n",
    "    for keys,values in kwargs.items():\n",
    "        print(keys,values)\n",
    "    \n",
    "var_args(jersey=10,player=\"sachin\",country=\"india\")"
   ]
  },
  {
   "cell_type": "code",
   "execution_count": null,
   "id": "d4295cec",
   "metadata": {},
   "outputs": [],
   "source": [
    "def var_args(*args,**kwargs): # tuple and then dict\n",
    "    for item in args:\n",
    "        print(item,end=\" \")\n",
    "    for key,item in kwargs.items():\n",
    "        print(item,end=\" \")\n",
    "\n",
    "var_args(\"titanic\",1997,actor=\"leonardo\")"
   ]
  },
  {
   "cell_type": "code",
   "execution_count": null,
   "id": "2908be1f",
   "metadata": {},
   "outputs": [],
   "source": [
    "def add(*args):\n",
    "    total=0\n",
    "    for value in args:\n",
    "        total+=value\n",
    "    return total\n",
    "\n",
    "print(add(10,20,30,40,50))\n",
    "print(add(10,20))\n",
    "print(add(10))\n",
    "print(add())"
   ]
  },
  {
   "cell_type": "code",
   "execution_count": null,
   "id": "a8f2a616",
   "metadata": {},
   "outputs": [],
   "source": [
    "def add(*args,**kwargs):\n",
    "    total=0\n",
    "    for value in args:\n",
    "        total+=value\n",
    "    for key,value in kwargs.items():\n",
    "        total+=value\n",
    "    return total\n",
    "\n",
    "print(add(value1=10,value2=20)) # keyword argments\n",
    "print(add(10,20)) # unnamed args\n",
    "print(add(10,value=20)) # mix of both unnamed args as well as keyword args\n",
    "print(add())"
   ]
  },
  {
   "cell_type": "code",
   "execution_count": null,
   "id": "4fe71e55",
   "metadata": {},
   "outputs": [],
   "source": [
    "def function_returning_collection():\n",
    "    return 10,\"sachin\",\"india\"\n",
    "\n",
    "jersey,player,country=function_returning_collection()\n",
    "print(jersey,player,country)"
   ]
  },
  {
   "cell_type": "code",
   "execution_count": null,
   "id": "95f13f97",
   "metadata": {},
   "outputs": [],
   "source": [
    "def add(*args): # (10,20,30)\n",
    "    total=0\n",
    "    for value in args:\n",
    "        total+=value\n",
    "    return total\n",
    "\n",
    "def math_function_add(*args): #(10,20,30) \n",
    "    print(add(*args)) # 10,20,30 # collection unpacking\n",
    "    \n",
    "math_function_add(10,20,30)\n",
    "math_function_add(10,20)\n",
    "math_function_add(10)"
   ]
  },
  {
   "cell_type": "code",
   "execution_count": null,
   "id": "82482bff",
   "metadata": {},
   "outputs": [],
   "source": [
    "list1=[10,20,30]\n",
    "tuple1=(10,20,30)\n",
    "set1={10,20,30}\n",
    "\n",
    "def show(x,y,z):\n",
    "    print(x,y,z)\n",
    "    \n",
    "show(*list1) # 10,20,30\n",
    "show(*tuple1) # 10,20,30\n",
    "show(*set1) # 10,20,30"
   ]
  },
  {
   "cell_type": "code",
   "execution_count": null,
   "id": "6521440d",
   "metadata": {},
   "outputs": [],
   "source": [
    "def show(x,y):\n",
    "    print(x,y)\n",
    "    \n",
    "numbers={\"sachin\":10,\"sehwag\":99}\n",
    "show(*numbers)\n",
    "show(x=numbers[\"sachin\"],y=numbers[\"sehwag\"])"
   ]
  },
  {
   "cell_type": "code",
   "execution_count": null,
   "id": "f062d0ef",
   "metadata": {},
   "outputs": [],
   "source": [
    "# you can nest functions in python!\n",
    "def outer_function(jersey,player):\n",
    "    def inner_function():\n",
    "        print(\"inner function called\")\n",
    "        return jersey\n",
    "    print(\"outer function called\")\n",
    "    jersey=inner_function()\n",
    "    print(f\"{jersey}\")\n",
    "    return player\n",
    "\n",
    "player=outer_function(10,\"sachin\")\n",
    "print(f\"{player}\")"
   ]
  },
  {
   "cell_type": "code",
   "execution_count": null,
   "id": "f0e2582c",
   "metadata": {},
   "outputs": [],
   "source": [
    "# scope of variables\n",
    "var=10\n",
    "def outer_function():\n",
    "    #global var\n",
    "    var=20\n",
    "    print(f\"inside outer_function {var}\")\n",
    "    def inner_function():\n",
    "        nonlocal var \n",
    "        var=30\n",
    "        print(f\"inner function called {var}\")\n",
    "    inner_function()\n",
    "    print(f\"inside outer_function {var}\")\n",
    "    \n",
    "outer_function()\n",
    "print(f\"outside everything ... {var}\")"
   ]
  },
  {
   "cell_type": "code",
   "execution_count": null,
   "id": "d567bf66",
   "metadata": {},
   "outputs": [],
   "source": [
    "def foo():\n",
    "    print(\"foo called\")\n",
    "    \n",
    "print(foo) # Note: name of the function is base address of the function\n",
    "ref=foo # reference ref holds address of foo function\n",
    "ref() # call to foo using reference"
   ]
  },
  {
   "cell_type": "code",
   "execution_count": null,
   "id": "cb5dd4c6",
   "metadata": {},
   "outputs": [],
   "source": [
    "def foo():\n",
    "    print(\"foo called\")\n",
    "def bar(ref):\n",
    "    ref() # generate a call to foo function\n",
    "    print(\"bar called\")\n",
    "bar(foo) # passing address of foo function"
   ]
  },
  {
   "cell_type": "code",
   "execution_count": null,
   "id": "ecf6aaa4",
   "metadata": {},
   "outputs": [],
   "source": [
    "def add(x,y):\n",
    "    return x+y\n",
    "\n",
    "def bar(ref): # function pointer\n",
    "    print(\"Addition is\",ref(10,20)) # call using function pointer to add function\n",
    "\n",
    "bar(add) # passing address of add function"
   ]
  },
  {
   "cell_type": "code",
   "execution_count": null,
   "id": "f540ea90",
   "metadata": {},
   "outputs": [],
   "source": [
    "# Functions are objects\n",
    "def validate_user(username,password):\n",
    "    print(username,password)\n",
    "\n",
    "def monkey_patching(x,y):\n",
    "    print(\"You are fooled by a monkey\")\n",
    "\n",
    "validate_user(\"root\",\"redhat\")\n",
    "validate_user=monkey_patching\n",
    "validate_user(\"deva\",\"redhat@123\")"
   ]
  },
  {
   "cell_type": "code",
   "execution_count": null,
   "id": "33ee1e26",
   "metadata": {},
   "outputs": [],
   "source": [
    "def decorator(func): # func is a function pointer which holds address of fuction\n",
    "    def newfunction():\n",
    "        print(\"Have a good day!\",end=\" \")\n",
    "        func() # call username using function pointer\n",
    "    return newfunction # return address of inner function\n",
    "\n",
    "@decorator\n",
    "def username():\n",
    "    print(\"sagar\")\n",
    "    \n",
    "username()\n",
    "# Note: A decorator always takes function pointer as an arguments and returns address \n",
    "# of some other function\n",
    "#username=decorator(username)\n",
    "username()"
   ]
  },
  {
   "cell_type": "code",
   "execution_count": null,
   "id": "89de966f",
   "metadata": {},
   "outputs": [],
   "source": [
    "def divide_decorator(ref):\n",
    "    def custom_decorator(a,b):\n",
    "        if(b==0):\n",
    "            print(\"Cannot divide by zero\")\n",
    "            return\n",
    "        return ref(a,b) # generate call to divide function indirectly\n",
    "    return custom_decorator\n",
    "\n",
    "@divide_decorator\n",
    "def divide(x,y):\n",
    "    return x/y\n",
    "\n",
    "#divide=divide_decorator(divide)\n",
    "divide(10,3)\n",
    "\n",
    "#try:\n",
    "    #print(divide(10,0))\n",
    "#except ZeroDivisionError as ex:\n",
    "    #print(ex)"
   ]
  },
  {
   "cell_type": "code",
   "execution_count": null,
   "id": "ad6bdd66",
   "metadata": {},
   "outputs": [],
   "source": [
    "user={\"username\":\"root\",\"access_level\":\"admin\"}\n",
    "\n",
    "def decorator_admin_password(show_password):\n",
    "    def check_function():\n",
    "        if user[\"access_level\"]==\"admin\":\n",
    "            print(show_password()) # call using function pointer\n",
    "        else:\n",
    "            print(\"You have guest privileges\")\n",
    "    return check_function\n",
    "            \n",
    "def get_admin_password():\n",
    "    return \"admin@123\"\n",
    "\n",
    "get_admin_password=decorator_admin_password(get_admin_password)\n",
    "get_admin_password() # a callback is implemented"
   ]
  },
  {
   "cell_type": "code",
   "execution_count": null,
   "id": "c729003e",
   "metadata": {},
   "outputs": [],
   "source": [
    "# Note: Every generator is iterable but every iterable is not a generator\n",
    "# Note: next() and for() are iterators\n",
    "# Note: iterators can be used on both genrators as well as iterables(collections)\n",
    "def function():\n",
    "    for item in range(5):\n",
    "        yield item # Note: yield == ()\n",
    "\n",
    "print(function())\n",
    "#for nums in function():\n",
    "    #print(nums)\n",
    "ref=function()\n",
    "print(ref)\n",
    "print(next(ref))\n",
    "print(next(ref))\n",
    "print(next(ref))\n",
    "print(next(ref))\n",
    "print(next(ref))"
   ]
  },
  {
   "cell_type": "code",
   "execution_count": null,
   "id": "ea54ade3",
   "metadata": {},
   "outputs": [],
   "source": [
    "list1=[10,20,30]\n",
    "mystring=\"india\"\n",
    "\n",
    "for item in list1:\n",
    "    print(item)\n",
    "\n",
    "ref=iter(list1) # converting a iterable into iterator using iter()\n",
    "print(next(ref))# 10\n",
    "print(next(ref))# 20\n",
    "print(next(ref))# 30\n",
    "\n",
    "myref=iter(mystring)\n",
    "print(next(myref))\n",
    "print(next(myref))\n",
    "print(next(myref))"
   ]
  },
  {
   "cell_type": "code",
   "execution_count": null,
   "id": "1b61e076",
   "metadata": {},
   "outputs": [],
   "source": [
    "# fibonacii numbers 0 1 1 2 3 5 8 ....\n",
    "\"\"\"\n",
    "def fibonacii(num):\n",
    "    f1=0\n",
    "    f2=1\n",
    "    list1=[]\n",
    "    for item in range(num): # 0...9\n",
    "        list1.append(f1)\n",
    "        f1,f2=f2,f1+f2\n",
    "    return list1\n",
    "\"\"\"\n",
    "def fibonacii(num):\n",
    "    f1=0\n",
    "    f2=1\n",
    "    for item in range(num): # 0...9\n",
    "        yield f1\n",
    "        f1,f2=f2,f1+f2\n",
    "\n",
    "print(fibonacii(10)) # 10\n",
    "#for nums in fibonacii(10):\n",
    "    #print(nums,end=\" \")\n",
    "ref=fibonacii(10)\n",
    "print(next(ref))\n"
   ]
  },
  {
   "cell_type": "code",
   "execution_count": null,
   "id": "d404d0e2",
   "metadata": {},
   "outputs": [],
   "source": [
    "my_even_numbers=(item for item in range(1,21)if item%2==0)\n",
    "\n",
    "def even_numbers():\n",
    "    for item in range(1,21):\n",
    "        if item%2==0:\n",
    "            yield item\n",
    "        \n",
    "for nums in even_numbers():\n",
    "    print(nums,end=\" \")\n",
    "    \n",
    "print(\" \")\n",
    "\n",
    "for nums in my_even_numbers:\n",
    "    print(nums,end=\" \")"
   ]
  },
  {
   "cell_type": "code",
   "execution_count": null,
   "id": "fa04c52a",
   "metadata": {},
   "outputs": [],
   "source": [
    "list1=[item for item in range(1,21)if item%2==0]\n",
    "print(sum(list1))\n",
    "print(sum(list1))\n",
    "print(sum(list1))\n",
    "gen1=(item for item in range(1,21)if item%2==0)\n",
    "print(sum(gen1))\n",
    "#gen1=(item for item in range(1,21)if item%2==0)\n",
    "print(sum(gen1))"
   ]
  },
  {
   "cell_type": "code",
   "execution_count": null,
   "id": "d4f26169",
   "metadata": {},
   "outputs": [],
   "source": []
  }
 ],
 "metadata": {
  "kernelspec": {
   "display_name": "Python 3 (ipykernel)",
   "language": "python",
   "name": "python3"
  },
  "language_info": {
   "codemirror_mode": {
    "name": "ipython",
    "version": 3
   },
   "file_extension": ".py",
   "mimetype": "text/x-python",
   "name": "python",
   "nbconvert_exporter": "python",
   "pygments_lexer": "ipython3",
   "version": "3.9.7"
  }
 },
 "nbformat": 4,
 "nbformat_minor": 5
}
