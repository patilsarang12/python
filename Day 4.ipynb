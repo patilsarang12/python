{
 "cells": [
  {
   "cell_type": "code",
   "execution_count": null,
   "id": "cad9d48f",
   "metadata": {},
   "outputs": [],
   "source": [
    "%%writefile file1.txt\n",
    "This is my file\n",
    "I am very happy to create it using jupyter notebook"
   ]
  },
  {
   "cell_type": "code",
   "execution_count": null,
   "id": "102680b1",
   "metadata": {},
   "outputs": [],
   "source": [
    "fs=open(\"prayer.txt\",\"w\")\n",
    "#print(fs.readable())\n",
    "if fs.writable():\n",
    "    fs.write(\"Thank you GOD for birds thy sing\\n\") # use \\n to take the cursor on the next line\n",
    "    fs.write(\"Thank you GOD for food we eat\\n\")\n",
    "    fs.write(\"Thank you GOD for world so sweet\\n\")\n",
    "    fs.write(\"Thank you GOD for everything!\\n\")\n",
    "fs.close()"
   ]
  },
  {
   "cell_type": "code",
   "execution_count": null,
   "id": "1973ad9c",
   "metadata": {},
   "outputs": [],
   "source": [
    "fs=open(\"gratitude.txt\",\"w\")\n",
    "poem= [\"Thank you GOD for birds thy sing\",\n",
    "     \"Thank you GOD for food we eat\",\n",
    "     \"Thank you GOD for world so sweet\",\n",
    "     \"Thank you GOD for everything!\"]\n",
    "if fs.writable():\n",
    "    #fs.writelines(poem) # Note: To write a collection into file use writelines(collection)\n",
    "    for lines in poem:\n",
    "        fs.write(lines+\"\\n\")\n",
    "fs.close()"
   ]
  },
  {
   "cell_type": "code",
   "execution_count": null,
   "id": "efd554ae",
   "metadata": {},
   "outputs": [],
   "source": [
    "# with statement is called as context manager \n",
    "# context manager closes the file after you outdent your code!\n",
    "with open(\"gratitude.txt\",\"r\") as fs:\n",
    "    print(fs.read()) # Note: read() will read whole text file"
   ]
  },
  {
   "cell_type": "code",
   "execution_count": null,
   "id": "1d338b69",
   "metadata": {},
   "outputs": [],
   "source": [
    "with open(\"gratitude.txt\",\"r\") as fs:\n",
    "    line1=fs.readline()\n",
    "    line2=fs.readline()\n",
    "    line3=fs.readline()\n",
    "    line4=fs.readline()\n",
    "    print(line1.strip(\"\\n\"))\n",
    "    print(line2.strip(\"\\n\"))\n",
    "    print(line3.strip(\"\\n\"))\n",
    "    print(line4.strip(\"\\n\"))"
   ]
  },
  {
   "cell_type": "code",
   "execution_count": null,
   "id": "130fa070",
   "metadata": {},
   "outputs": [],
   "source": [
    "with open(\"gratitude.txt\",\"r\") as fs:\n",
    "    all_text=fs.readlines()\n",
    "    print(\"First line of my file is :\",all_text[0])\n",
    "    #print(\"Second line and Thrid line is :\",all_text[1:3])\n",
    "    print(\"Second line and Thrid line is :\")\n",
    "    for lines in all_text[1:3]:\n",
    "        print(lines.strip(\"\\n\"))\n",
    "    print(\" \")\n",
    "    print(\"Last line of my file is :\",all_text[-1])\n",
    "    print(\"Total number of lines in my file\",len(all_text))"
   ]
  },
  {
   "cell_type": "code",
   "execution_count": null,
   "id": "b58f072c",
   "metadata": {},
   "outputs": [],
   "source": [
    "fs=open(\"gratitude.txt\",\"r\")\n",
    "fd=open(\"backup.txt\",\"w\")\n",
    "data=fs.read()\n",
    "fd.write(data)\n",
    "fs.close()\n",
    "fd.close()"
   ]
  },
  {
   "cell_type": "code",
   "execution_count": null,
   "id": "37cbb88a",
   "metadata": {},
   "outputs": [],
   "source": [
    "import csv\n",
    "\n",
    "fs=open(\"data.csv\",\"r\")\n",
    "\"\"\"\n",
    "print(fs.read())\n",
    "fs.seek(0) # bring the file pointer to the beginning of the file\n",
    "print(fs.read())\n",
    "fs.seek(3) # bring the file pointer to address of third character from the file\n",
    "print(fs.read())\n",
    "print(fs.read())\n",
    "\"\"\"\n",
    "csv.reader()\n",
    "fs.close()"
   ]
  },
  {
   "cell_type": "code",
   "execution_count": 3,
   "id": "65b58e02",
   "metadata": {},
   "outputs": [],
   "source": [
    "import csv\n",
    "\n",
    "fs=open(\"c:\\\\users\\\\shree\\\\employees.csv\",\"w\",newline=\"\") # To stop blank lines to be inserted use newline parameter\n",
    "data=csv.writer(fs,delimiter=\",\")\n",
    "data.writerow([100,\"atharva\",\"ibm\"])\n",
    "data.writerow([200,\"hina\",\"vwits\"])\n",
    "data.writerow([300,\"supriya\",\"accenture\"])\n",
    "fs.close()"
   ]
  },
  {
   "cell_type": "code",
   "execution_count": 4,
   "id": "f95a4d30",
   "metadata": {},
   "outputs": [],
   "source": [
    "import csv\n",
    "\n",
    "fs=open(\"c:\\\\users\\\\shree\\\\newemp.csv\",\"w\",newline=\"\") # To stop blank lines to be inserted use newline parameter\n",
    "data=csv.writer(fs,delimiter=\",\")\n",
    "data.writerows([[100,\"atharva\",\"ibm\"],[200,\"hina\",\"vwits\"],[300,\"supriya\",\"accenture\"]])\n",
    "fs.close()"
   ]
  },
  {
   "cell_type": "code",
   "execution_count": null,
   "id": "0e1d6999",
   "metadata": {},
   "outputs": [],
   "source": []
  }
 ],
 "metadata": {
  "kernelspec": {
   "display_name": "Python 3 (ipykernel)",
   "language": "python",
   "name": "python3"
  },
  "language_info": {
   "codemirror_mode": {
    "name": "ipython",
    "version": 3
   },
   "file_extension": ".py",
   "mimetype": "text/x-python",
   "name": "python",
   "nbconvert_exporter": "python",
   "pygments_lexer": "ipython3",
   "version": "3.9.7"
  }
 },
 "nbformat": 4,
 "nbformat_minor": 5
}
