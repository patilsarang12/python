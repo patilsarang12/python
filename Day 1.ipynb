{
 "cells": [
  {
   "cell_type": "code",
   "execution_count": null,
   "id": "8879dc7e",
   "metadata": {},
   "outputs": [],
   "source": [
    "\"\"\"\n",
    "# Everything is an object in python\n",
    "# There are no builtin data types\n",
    "# Everything is runtime, There is no compile time\n",
    "# int,float,str,bool,complex,None are immutable objects!\n",
    "\"\"\"\n",
    "x=10\n",
    "print(x,id(x),type(x))\n",
    "y=x\n",
    "x=x+1 # Here a new object gets created\n",
    "print(x,id(x),type(x))\n",
    "x=3.142 # There is no double object in python  \n",
    "print(x,id(x),type(x))\n",
    "x='a' # There is no char in python. Everything is a str object \n",
    "print(x,id(x),type(x))\n",
    "x=False \n",
    "print(x,id(x),type(x))\n",
    "x=None\n",
    "print(x,id(x),type(x))\n",
    "x=3+5j\n",
    "print(x,id(x),type(x))"
   ]
  },
  {
   "cell_type": "code",
   "execution_count": null,
   "id": "61dec6de",
   "metadata": {},
   "outputs": [],
   "source": [
    "# There are 3 different ways to do formatting in python\n",
    "player=\"sachin\"\n",
    "runs=100\n",
    "average=75.45\n",
    "# C style of formatting\n",
    "print(\"Player is %10s\\nRuns scored is %d\\nAverage is %.2f\\n\"%(player,runs,average))\n",
    "# str.format() function till python 3.6\n",
    "print(\"Player is {0}\\nRuns scored is {1} {1}\\nAverage is {2} {2} {2}\\n\".format(player,runs,average))\n",
    "# f-string function can be used after python 3.6\n",
    "print(f\"Player is {player}\\nRuns scored is {runs} {runs}\\nAverage is {average}\\n\")"
   ]
  },
  {
   "cell_type": "code",
   "execution_count": null,
   "id": "daa17c7b",
   "metadata": {},
   "outputs": [],
   "source": [
    "var1=float(input(\"Enter first number \"))\n",
    "# int() ctor of class int \n",
    "var2=input(\"Enter second number \")\n",
    "var2=float(var2)\n",
    "print(f\"values are {var1} and {var2}\")\n",
    "print(f\"values are {type(var1)} and {type(var2)}\")\n",
    "print(f\"sum of {var1} and {var2} is {var1+var2}\")"
   ]
  },
  {
   "cell_type": "code",
   "execution_count": null,
   "id": "3dc45d64",
   "metadata": {},
   "outputs": [],
   "source": [
    "var1=eval(input(\"Enter first number \"))\n",
    "var2=eval(input(\"Enter second number \"))\n",
    "print(f\"values are {var1} and {var2}\")\n",
    "print(f\"values are {type(var1)} and {type(var2)}\")\n",
    "print(f\"sum of {var1} and {var2} is {var1+str(var2)}\")"
   ]
  },
  {
   "cell_type": "code",
   "execution_count": null,
   "id": "307c5591",
   "metadata": {},
   "outputs": [],
   "source": [
    "print(10%3)\n",
    "print(10/3)\n",
    "print(10//3) # floor division\n",
    "print(2**16) # ** power\n",
    "print(4**0.5) # sqrt\n",
    "print(5*2)"
   ]
  },
  {
   "cell_type": "code",
   "execution_count": null,
   "id": "e0eb45f8",
   "metadata": {},
   "outputs": [],
   "source": [
    "# Take BS as input from user\n",
    "# 30%BS = HRA\n",
    "# 20%BS = DA\n",
    "# GS=HRA+DA+BS+PF+PT\n",
    "# NS=GS-PF-PT\n",
    "# use conversion functions like int() float() str() eval()\n",
    "# use proper operators like % / //  + -\n",
    "# proper formatting using C-style, str.format() and f-strings "
   ]
  },
  {
   "cell_type": "markdown",
   "id": "e0db6b0a",
   "metadata": {},
   "source": [
    "3 mandatory things to follow when you write code\n",
    "1. use snake_case to name references and function names \n",
    "use lengthy identifiers which will reflect the purpose of the indentifier\n",
    "for(i=0;i<n;++i) for(emp_id=1;emp_id<no_employees;++emp_id){}\n",
    "show() display() show_employee_details() display_vehicle_details()\n",
    "2. write single line of code # docstring 100 lines\n",
    "3. be consistent with spaces and tabs\n",
    "() with :\n",
    "{} ident and outdent\n",
    "if()   if condition:\n",
    "{          print(\"hello\")\n",
    "       print(\"program continues!\")\n",
    "}\n"
   ]
  },
  {
   "cell_type": "code",
   "execution_count": null,
   "id": "f54229bb",
   "metadata": {},
   "outputs": [],
   "source": [
    "# class str\n",
    "print('cannot print \\'single quotes\\'  within single quotes')\n",
    "print(\"cannot print 'single quotes' within double quotes\")\n",
    "print(\"cannot print \\\"double quotes\\\" within double quotes\")\n",
    "print(\"can print 'single quotes' within double quotes\")\n",
    "print('can print \"double quotes\" within single quotes')\n",
    "\n",
    "print(\"\"\"\n",
    "    you can enclose 'single quotes'\n",
    "    as well as \"double quotes\"\n",
    "    any number of times. You dont have to use any escape sequences\n",
    "\"\"\")\n",
    "\n",
    "print('''\n",
    "    you can enclose 'single quotes'\n",
    "    as well as \"double quotes\"\n",
    "    any number of times. You dont have to use any escape sequences\n",
    "''')"
   ]
  },
  {
   "cell_type": "code",
   "execution_count": null,
   "id": "6fdb1e38",
   "metadata": {},
   "outputs": [],
   "source": [
    "# To use index slicing mechanism using []\n",
    "guideline1=\"How to write beautiful python code using pep 8\"\n",
    "print(guideline1)\n",
    "print(guideline1[:],guideline1[::])\n",
    "print(guideline1[0],guideline1[-1]) # H # 8\n",
    "print(guideline1[-6:]) # pep 8  \n",
    "print(guideline1[0:3]) # How  \n",
    "# [start:next_to_last:step_count]\n",
    "print(guideline1[0:15:2]) # How  \n",
    "print(guideline1[::-1])  # reverse the string\n",
    "print(\"Total number of characters\",len(guideline1))\n",
    "print(dir(str)) # __add__ dunder methods\n",
    "#print(help(str))\n",
    "print(guideline1*5)"
   ]
  },
  {
   "cell_type": "code",
   "execution_count": null,
   "id": "5a5d40cd",
   "metadata": {},
   "outputs": [],
   "source": [
    "mystring=\"python\"\n",
    "print(mystring.isdigit())\n",
    "print(mystring.isascii())\n",
    "print(mystring.isascii())\n",
    "print(mystring.islower())\n",
    "print(mystring.isalpha())\n",
    "print(mystring.isnumeric())\n",
    "print(mystring.rjust(50))\n",
    "print(mystring.ljust(50))\n",
    "print(mystring.center(50))"
   ]
  },
  {
   "cell_type": "code",
   "execution_count": null,
   "id": "661f31f0",
   "metadata": {},
   "outputs": [],
   "source": [
    "# Note str object is immutable meaning whenever you use any string function it creates a new object\n",
    "\n",
    "mystring=\"      python is beautiful and interesting python   \"\n",
    "mystring=mystring.strip()\n",
    "#print(mystring)\n",
    "#mystring=mystring.upper()\n",
    "print(mystring.lower())\n",
    "print(mystring.title())\n",
    "print(mystring.capitalize())\n",
    "print(mystring.swapcase())\n",
    "print(mystring.strip(\"python\"))\n",
    "print(mystring.lstrip(\"python\"))\n",
    "print(mystring.rstrip(\"python\"))"
   ]
  },
  {
   "cell_type": "code",
   "execution_count": null,
   "id": "6c7c738a",
   "metadata": {},
   "outputs": [],
   "source": [
    "data=\"ipython3.11\"\n",
    "version=data.strip(\"ipython\")\n",
    "version=float(version)\n",
    "print(type(version),type(float(version)))\n",
    "print(version)\n",
    "language=data.strip('i').strip(\"3.11\")\n",
    "print(language)"
   ]
  },
  {
   "cell_type": "code",
   "execution_count": null,
   "id": "a0984add",
   "metadata": {},
   "outputs": [],
   "source": [
    "email=\"deva@gmail.com\"\n",
    "mylist=email.split(\"@\")\n",
    "print(type(mylist))\n",
    "print(\"user name is \",mylist[0])\n",
    "print(\"domain name is \",mylist[1])"
   ]
  },
  {
   "cell_type": "code",
   "execution_count": null,
   "id": "6f79330b",
   "metadata": {},
   "outputs": [],
   "source": [
    "date=\"4-5-2022\"\n",
    "mydate=date.split(\"-\")\n",
    "print(\"Day is\",int(mydate[0]))\n",
    "print(\"month is\",int(mydate[1]))\n",
    "print(\"year is\",int(mydate[2]))"
   ]
  },
  {
   "cell_type": "code",
   "execution_count": null,
   "id": "fe00d0e2",
   "metadata": {},
   "outputs": [],
   "source": [
    "mystring=\"python is easy python python\"\n",
    "print(mystring.startswith('python'))\n",
    "print(mystring.endswith('easy'))\n",
    "print(\"position of p\",mystring.find(\"python\"))\n",
    "print(\"next position of p\",mystring.find(\"python\",1))\n",
    "print(\"position of p\",mystring.index(\"python\"))\n",
    "print(\"next position of p\",mystring.index(\"python\",1))\n",
    "print(mystring.find(\"ansible\")) # returns -1 if str is not present\n",
    "try:\n",
    "    print(mystring.index(\"ansible\")) # valueError substring not found\n",
    "except ValueError:\n",
    "    print(\"string is not present!\")\n",
    "print(\"count is\", mystring.count(\"python\"))\n",
    "print(mystring.replace(\"python\",\"dockers\"))\n",
    "print(mystring)"
   ]
  },
  {
   "cell_type": "code",
   "execution_count": null,
   "id": "69a00d42",
   "metadata": {},
   "outputs": [],
   "source": [
    "#import math\n",
    "#print(dir(math))\n",
    "#help(math.factorial)\n",
    "#print(math.factorial(5))"
   ]
  },
  {
   "cell_type": "code",
   "execution_count": null,
   "id": "47030b42",
   "metadata": {},
   "outputs": [],
   "source": [
    "# collections list [] tuple () set {} dict {key:value}\n",
    "# list is a collection of hetergeous mutable elements\n",
    "\n",
    "banks=[\"sbi\",\"axis\",\"hdfc\",\"axis\",\"sbi\"]\n",
    "print(banks,id(banks))\n",
    "\"\"\"\n",
    "print(\"Total number of banks\",len(banks))\n",
    "print(\"Count of axis banks\",banks.count(\"axis\"))\n",
    "print(\"Count of axis banks\",banks.count(\"axis\"))\n",
    "print(banks.sort())\n",
    "print(banks,id(banks))\n",
    "banks.reverse()\n",
    "print(banks,id(banks))\n",
    "print(banks[::-1])\n",
    "print(\"First bank is \",banks[0])\n",
    "print(\"last bank is \",banks[-1])\n",
    "print(\"Every next bank is \",banks[::2])\n",
    "\"\"\"\n",
    "#print(dir(list))\n",
    "banks.append(\"yes bank\")\n",
    "banks.append(\"icici\")\n",
    "banks.insert(0,\"pnb\")\n",
    "banks.insert(1,\"sarawat bank\")\n",
    "mybanks=[\"axis\",\"bob\",\"idbi\"]\n",
    "banks.extend(mybanks)\n",
    "mybanks=[\"oriental bank\",\"kotak\",\"union bank\"]\n",
    "banks.append(mybanks) \n",
    "print(banks)\n",
    "print(\"Last element is \",banks[-1])\n",
    "print(\"Last element is \",banks[12])\n",
    "print(\"Union bank element is \",banks[12][2])\n",
    "banks.pop()\n",
    "banks.pop()\n",
    "banks.pop()\n",
    "banks.pop()\n",
    "banks.pop(0)\n",
    "print(\"Poped element is \",banks.pop(2)) # pop returns poped element\n",
    "banks.remove('sbi') # remove returns None \n",
    "#print(\"Removed bank is \",banks.remove('yes bank'))\n",
    "print(\"count of icici\",banks.count('icici'))\n",
    "print(\"position of icici\",banks.index('icici'))\n",
    "print(banks)\n",
    "newbanks=banks # shallow copy\n",
    "del newbanks\n",
    "#newbanks=banks.copy() # deep copy\n",
    "# newbanks.clear()\n",
    "print(banks,id(banks))\n",
    "#print(newbanks,id(newbanks))"
   ]
  },
  {
   "cell_type": "code",
   "execution_count": null,
   "id": "1dfc7dc8",
   "metadata": {},
   "outputs": [],
   "source": [
    "print(dir(list))"
   ]
  },
  {
   "cell_type": "code",
   "execution_count": null,
   "id": "45297d9b",
   "metadata": {},
   "outputs": [],
   "source": [
    "x=10\n",
    "y=x\n",
    "print(x,id(x))\n",
    "del x\n",
    "print(y,id(y))"
   ]
  },
  {
   "cell_type": "code",
   "execution_count": null,
   "id": "2abd682c",
   "metadata": {},
   "outputs": [],
   "source": [
    "print(dir(tuple))"
   ]
  },
  {
   "cell_type": "code",
   "execution_count": null,
   "id": "ef37c43b",
   "metadata": {},
   "outputs": [],
   "source": [
    "# tuple is immutable and cannot be modified!\n",
    "banks=(\"sbi\",\"axis\",\"hdfc\",\"axis\",\"icici\")\n",
    "print(banks)\n",
    "print(banks[0])\n",
    "print(banks[-1])\n",
    "print(banks[1:3]) \n",
    "print(banks[::-1])\n",
    "print(banks.count('axis'))\n",
    "print(banks.index('axis'))\n",
    "newbanks=banks # only shallow copy is allowed on tuple!\n",
    "print(banks,id(banks))\n",
    "print(newbanks,id(newbanks))\n",
    "# del banks[0] # TypeError: 'tuple' object doesn't support item deletion\n",
    "# banks[0]=\"muthoot finance\" # TypeError: 'tuple' object does not support item assignment\n",
    "print(banks,id(banks))"
   ]
  },
  {
   "cell_type": "code",
   "execution_count": null,
   "id": "cb208d34",
   "metadata": {},
   "outputs": [],
   "source": [
    "x=100 #int\n",
    "print(type(x))\n",
    "x=() # tuple\n",
    "print(type(x))\n",
    "x=(100) # int\n",
    "print(type(x))\n",
    "x=(100,) # tuple requires , operator\n",
    "print(type(x))\n",
    "x=[10,20,30] # list\n",
    "print(type(x))\n",
    "x=10,20,30 # tuple writing () is optional for tuple \n",
    "print(type(x))\n",
    "x={} # dict\n",
    "print(type(x))\n",
    "x=set({}) # set\n",
    "print(type(x))\n",
    "x={10} # set\n",
    "print(type(x))\n",
    "x={10:\"sachin\"} # dict\n",
    "print(type(x))"
   ]
  },
  {
   "cell_type": "code",
   "execution_count": null,
   "id": "ab8baf7c",
   "metadata": {},
   "outputs": [],
   "source": [
    "nse=(\"accenture\",\"4-4-2022\",900,500)\n",
    "print(nse)\n",
    "\"\"\"\n",
    "print(\"Company\",nse[0])\n",
    "print(\"date\",nse[1])\n",
    "print(\"price\",nse[2])\n",
    "print(\"shares\",nse[3])\n",
    "\"\"\"\n",
    "company,date,price,shares=nse # multiple variable assingment is used to unpack values from collection\n",
    "print(f\"{company} {date} {price} {shares}\")"
   ]
  },
  {
   "cell_type": "code",
   "execution_count": null,
   "id": "44cd6f26",
   "metadata": {},
   "outputs": [],
   "source": [
    "# CRUD # create read update delete\n",
    "nse=([\"accenture\",\"4-4-2022\",900,500],\n",
    "     (\"hdfc\",\"1-4-2022\",100,600),\n",
    "     (\"olectra\",\"5-4-2022\",200,600))\n",
    "print(\"First record from the database\",nse[0])\n",
    "print(\"Last record from the database\",nse[-1])\n",
    "print(\"two records from the database\",nse[1:3])\n",
    "#nse.append((\"sbi\",\"1-1-2022\",500,500))\n",
    "nse[0][0]=\"capgemini\"\n",
    "print(nse)"
   ]
  },
  {
   "cell_type": "code",
   "execution_count": null,
   "id": "45cf923e",
   "metadata": {},
   "outputs": [],
   "source": [
    "cricketers={10:\"sachin\",99:\"sehwag\",18:\"virat\",17:\"abd\",\"dhoni\":7,\"gayle\":333}\n",
    "print(cricketers)\n",
    "print(cricketers[10])\n",
    "print(cricketers.get(\"shane\")) # get returns None if the key is not present\n",
    "print(cricketers[\"dhoni\"]) # [] raise key error if the key is not present\n",
    "print(cricketers.get(10))\n",
    "print(cricketers.get(\"dhoni\"))\n",
    "# Note if the key is not present then the key and value gets added into dict\n",
    "cricketers[23]=\"shane warne\"\n",
    "print(cricketers)\n",
    "# Note if the key is already present then the value gets updated\n",
    "cricketers[17]=\"hardik pandya\"\n",
    "#dream11=cricketers.copy() # deep copy\n",
    "#cricketers.clear() # clear the elements of dict!\n",
    "print(cricketers)\n",
    "#print(dream11)\n",
    "print(cricketers.keys()) # return a list of keys\n",
    "print(cricketers.values()) # return a list of values\n",
    "print(cricketers.items()) # return a list of tuples with keys and values\n",
    "for jersey,player in cricketers.items():\n",
    "    print(f\"{player} plays with {jersey} number\")\n",
    "#cricketers.pop(99) # with pop pass key \n",
    "print(\"pop is \",cricketers,cricketers.pop(99))\n",
    "print(\"Poped cricketer is \",cricketers.popitem())\n",
    "print(cricketers)\n",
    "dream11={45:\"rohit\",888:\"murli\"}\n",
    "cricketers.update(dream11)\n",
    "print(cricketers)\n",
    "#for x,y,z in [10,20,30]: # [(10,20,30)]\n",
    "    #print(x,y,z)\n",
    "#for keys in cricketers.keys(): # [] # using for loop to unpack the values from collection\n",
    "    #print(keys)"
   ]
  },
  {
   "cell_type": "code",
   "execution_count": null,
   "id": "bad7e6a7",
   "metadata": {},
   "outputs": [],
   "source": [
    "print(dir(dict))"
   ]
  },
  {
   "cell_type": "code",
   "execution_count": null,
   "id": "88a9fe8c",
   "metadata": {},
   "outputs": [],
   "source": [
    "players=[\"sachin\",\"sehwag\",\"dhoni\"]\n",
    "cricketers=dict.fromkeys(players)\n",
    "print(cricketers)\n",
    "cricketers[\"sachin\"]=10\n",
    "cricketers[\"sehwag\"]=99\n",
    "cricketers[\"dhoni\"]=7\n",
    "cricketers.setdefault(\"dhoni\",333)\n",
    "cricketers.setdefault(\"rohit\",45)\n",
    "print(cricketers)"
   ]
  },
  {
   "cell_type": "code",
   "execution_count": 5,
   "id": "b9727e73",
   "metadata": {},
   "outputs": [
    {
     "name": "stdout",
     "output_type": "stream",
     "text": [
      "1600\n",
      "190\n",
      "Record of hdfc {'high': 1600, 'low': 1500, 'current': 1550}\n",
      "Todays price of hdfc is 1550\n",
      "Todays price for accenture is  850\n"
     ]
    }
   ],
   "source": [
    "sensex={\"hdfc\":1600,\"olectra\":190,\"accenture\":900}\n",
    "print(sensex[\"hdfc\"])\n",
    "print(sensex[\"olectra\"])\n",
    "sensex={\"hdfc\":{\"high\":1600,\"low\":1500,\"current\":1550},\n",
    "        \"olectra\":{\"high\":200,\"low\":100,\"current\":150},\n",
    "        \"accenture\":[1000,900,850]\n",
    "       }\n",
    "print(\"Record of hdfc\",sensex[\"hdfc\"])\n",
    "print(\"Todays price of hdfc is\",sensex[\"hdfc\"][\"current\"])\n",
    "print(\"Todays price for accenture is \",sensex[\"accenture\"][2])"
   ]
  },
  {
   "cell_type": "code",
   "execution_count": 34,
   "id": "0b16147c",
   "metadata": {},
   "outputs": [
    {
     "name": "stdout",
     "output_type": "stream",
     "text": [
      "{'wipro', 'infosys', 'tcs', ('sachin', 10, 75.67, 'india')} <class 'set'>\n",
      "{'wipro', 'infosys', 'tcs', ('sachin', 10, 75.67, 'india')} <class 'set'> 2182829599648\n",
      "['__and__', '__class__', '__class_getitem__', '__contains__', '__delattr__', '__dir__', '__doc__', '__eq__', '__format__', '__ge__', '__getattribute__', '__gt__', '__hash__', '__iand__', '__init__', '__init_subclass__', '__ior__', '__isub__', '__iter__', '__ixor__', '__le__', '__len__', '__lt__', '__ne__', '__new__', '__or__', '__rand__', '__reduce__', '__reduce_ex__', '__repr__', '__ror__', '__rsub__', '__rxor__', '__setattr__', '__sizeof__', '__str__', '__sub__', '__subclasshook__', '__xor__', 'add', 'clear', 'copy', 'difference', 'difference_update', 'discard', 'intersection', 'intersection_update', 'isdisjoint', 'issubset', 'issuperset', 'pop', 'remove', 'symmetric_difference', 'symmetric_difference_update', 'union', 'update']\n",
      "{'wipro', True, ('sachin', 10, 75.67, 'india'), 'renishaw', 'mastercard', 10, 'tcs', 45.67, (1+5j), 'capgemini', 'vodafone', 'ptc'} 2182829599648\n",
      "Removed element is  wipro\n",
      "{True, ('sachin', 10, 75.67, 'india'), 'renishaw', 10, 'tcs', 45.67, (1+5j), 'capgemini', 'vodafone', 'ptc'}\n"
     ]
    }
   ],
   "source": [
    "# set is unordered collection of unique heteregenous elements which are mutable\n",
    "# set can only have immutable elements like int, float, str, bool, complex, tuple, None\n",
    "# set cannot have sets, dict, list because these are mutable collections!\n",
    "companies={\"wipro\",\"tcs\",\"infosys\",\"tcs\",\"tcs\",\"wipro\",(\"sachin\",10,75.67,\"india\")}\n",
    "print(companies,type(companies))\n",
    "companies=set(companies)\n",
    "print(companies,type(companies),id(companies))\n",
    "print(dir(set))\n",
    "companies.add(\"capgemini\")\n",
    "companies.add(\"mastercard\")\n",
    "companies.add(\"redhat\")\n",
    "companies.add(10)\n",
    "companies.add(1+5j)\n",
    "companies.add(True)\n",
    "companies.add(45.67)\n",
    "companies.remove(\"redhat\")\n",
    "#companies.remove(\"ibm\") # KeyError: 'ibm'\n",
    "companies.discard(\"ibm\")\n",
    "companies.discard(\"infosys\")\n",
    "myfavorites={\"vodafone\",\"renishaw\",\"ptc\",\"wipro\",\"wipro\"}\n",
    "companies.update(myfavorites) # update is to add one set into another set\n",
    "print(companies,id(companies))\n",
    "print(\"Removed element is \",companies.pop()) # any random element from existing set\n",
    "companies.remove(\"mastercard\")\n",
    "print(companies)"
   ]
  },
  {
   "cell_type": "code",
   "execution_count": 44,
   "id": "05df32c0",
   "metadata": {},
   "outputs": [
    {
     "name": "stdout",
     "output_type": "stream",
     "text": [
      "True\n",
      "True\n",
      "True\n",
      "True\n",
      "True\n",
      "Indians but not Batsman {'bumrah'}\n",
      "Common elements from both datasets but not intersection {'gayle', 'lara', 'gilly', 'hayden', 'bumrah'}\n",
      "Indian Batsmans only {'sachin', 'virat', 'sehwag'}\n"
     ]
    }
   ],
   "source": [
    "Indian={\"sachin\",\"sehwag\",\"virat\",\"bumrah\"}\n",
    "WestIndies={\"lara\",\"gayle\",\"bravo\"}\n",
    "Australia={\"warne\",\"mcgrath\",\"gilly\",\"hayden\"}\n",
    "Batsman={\"sachin\",\"sehwag\",\"virat\",\"lara\",\"gayle\",\"gilly\",\"hayden\"}\n",
    "Bowlers={\"bumrah\",\"bravo\",\"warne\",\"mcgrath\"}\n",
    "Cricketers={\"sachin\",\"sehwag\",\"virat\",\"bumrah\",\n",
    "            \"lara\",\"gayle\",\"bravo\",\n",
    "            \"warne\",\"mcgrath\",\"gilly\",\"hayden\"\n",
    "           }\n",
    "\n",
    "print(Indian.issubset(Cricketers))\n",
    "print(Cricketers.issuperset(Indian))\n",
    "print(Indian.isdisjoint(WestIndies))\n",
    "\n",
    "print(Indian.union(Australia).union(WestIndies)==Cricketers)\n",
    "print(Indian.intersection(Cricketers)==Cricketers.intersection(Indian))\n",
    "print(\"Indians but not Batsman\",Indian.difference(Batsman))\n",
    "print(\"Common elements from both datasets but not intersection\",Indian.symmetric_difference(Batsman))\n",
    "print(\"Indian Batsmans only\",Indian.intersection(Batsman))"
   ]
  },
  {
   "cell_type": "code",
   "execution_count": 50,
   "id": "0ec3d15a",
   "metadata": {},
   "outputs": [
    {
     "name": "stdout",
     "output_type": "stream",
     "text": [
      "Indian Batsmans only {'sachin', 'virat', 'sehwag'}\n",
      "['sachin', 'sehwag', 'virat']\n"
     ]
    }
   ],
   "source": [
    "Indian={\"sachin\",\"sehwag\",\"virat\",\"bumrah\"}\n",
    "Batsman={\"sachin\",\"sehwag\",\"virat\",\"lara\",\"gayle\",\"gilly\",\"hayden\"}\n",
    "print(\"Indian Batsmans only\",Indian.intersection(Batsman))\n",
    "\n",
    "Indian=[\"sachin\",\"sehwag\",\"virat\",\"bumrah\"]\n",
    "Batsman=[\"sachin\",\"sehwag\",\"virat\",\"lara\",\"gayle\",\"gilly\",\"hayden\"]\n",
    "\n",
    "common_players=[]\n",
    "for player in Indian:\n",
    "    if player in Batsman:\n",
    "        common_players.append(player)\n",
    "print(common_players)"
   ]
  },
  {
   "cell_type": "code",
   "execution_count": null,
   "id": "b1b1cdb8",
   "metadata": {},
   "outputs": [],
   "source": []
  }
 ],
 "metadata": {
  "kernelspec": {
   "display_name": "Python 3 (ipykernel)",
   "language": "python",
   "name": "python3"
  },
  "language_info": {
   "codemirror_mode": {
    "name": "ipython",
    "version": 3
   },
   "file_extension": ".py",
   "mimetype": "text/x-python",
   "name": "python",
   "nbconvert_exporter": "python",
   "pygments_lexer": "ipython3",
   "version": "3.9.7"
  }
 },
 "nbformat": 4,
 "nbformat_minor": 5
}
