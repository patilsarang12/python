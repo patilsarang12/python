{
 "cells": [
  {
   "cell_type": "code",
   "execution_count": null,
   "id": "dd3ddbe0",
   "metadata": {},
   "outputs": [],
   "source": [
    "#def foo():\n",
    "    #print(\"foo called\")\n",
    "    \n",
    "#ref=lambda:print(\"foo called\")\n",
    "#ref()\n",
    "\n",
    "(lambda :print(\"foo called\"))() # lambda which is not stored"
   ]
  },
  {
   "cell_type": "code",
   "execution_count": null,
   "id": "91913b8a",
   "metadata": {},
   "outputs": [],
   "source": [
    "\"\"\"\n",
    "def add(x,y):\n",
    "    print(\"hello\")\n",
    "    return x+y\n",
    "print(add(10,20))\n",
    "\"\"\"\n",
    "#ref=(lambda x,y,z:x+y+z ) # storing lambda into reference\n",
    "#print(ref(10,20,30)) # reference you generate a call to lambda\n",
    "print((lambda x,y,z:x+y+z )(10,20,30)) # directly using lambda without storing into any reference"
   ]
  },
  {
   "cell_type": "code",
   "execution_count": null,
   "id": "60523c40",
   "metadata": {},
   "outputs": [],
   "source": [
    "#def scores(marks):\n",
    "    #return sum(marks)\n",
    "\n",
    "menu={\n",
    "    \"sum\": lambda marks: sum(marks),\n",
    "    \"avg\": lambda marks: sum(marks)/len(marks)\n",
    "}\n",
    "students=[\n",
    "            {\"name\":\"giriraj\",\"marks\":[80,90,100]},\n",
    "            {\"name\":\"saahil\",\"marks\":[80,90]},\n",
    "            {\"name\":\"atharva\",\"marks\":[80,90,100,95]} \n",
    "         ]\n",
    "\n",
    "for participants in students:\n",
    "    marks=participants[\"marks\"]\n",
    "    print(menu[\"sum\"](marks))\n",
    "    #print(scores(participants[\"marks\"]))"
   ]
  },
  {
   "cell_type": "code",
   "execution_count": null,
   "id": "a4fcef5e",
   "metadata": {},
   "outputs": [],
   "source": [
    "companies=[\"wipro\",\"tcs\",\"tieto\",\"tata technologies\",\"cognizant\",\"capgemini\"]\n",
    "\n",
    "#companies_start_with_t=[company for company in companies if company.startswith('t') ]\n",
    "\"\"\"\n",
    "for company in companies:\n",
    "    if company.startswith('t'):\n",
    "        companies_start_with_t.append(company)\n",
    "\"\"\"\n",
    "#print(companies_start_with_t)\n",
    "#companies_start_with_t=(company for company in companies if company.startswith('t'))\n",
    "#for company in companies_start_with_t:\n",
    "#    print(company,end=\" \")\n",
    "\n",
    "#filter(function_pointer,iterable) # returns a generator\n",
    "\n",
    "def companies_start_with_t(companies):\n",
    "    return companies.startswith('t')\n",
    "\n",
    "for company in filter(companies_start_with_t,companies):\n",
    "    print(company,end=\" \")\n",
    "print(\" \")\n",
    "for company in filter(lambda companies: companies.startswith('t') ,companies):\n",
    "    print(company,end=\" \")\n",
    "    \n",
    "def custom_filter(func,iterable):\n",
    "    for every_item in iterable:\n",
    "        if func(every_item):\n",
    "            yield every_item\n",
    "print(\" \")      \n",
    "for company in custom_filter(companies_start_with_t ,companies):\n",
    "    print(company,end=\" \")\n",
    "print(\" \")  \n",
    "for company in custom_filter(lambda companies: companies.startswith('t') ,companies):\n",
    "    print(company,end=\" \")\n",
    "print(\" \")\n",
    "companies_start_with_t=[company for company in companies if company.startswith('t') ]\n",
    "print(companies_start_with_t)\n",
    "print(\" \")\n",
    "companies_start_with_t=(company for company in companies if company.startswith('t'))\n",
    "for company in companies_start_with_t:\n",
    "    print(company,end=\" \")\n",
    "print(\" \")"
   ]
  },
  {
   "cell_type": "code",
   "execution_count": null,
   "id": "07db8f52",
   "metadata": {},
   "outputs": [],
   "source": [
    "import platform as pt\n",
    "\n",
    "#print(dir(platform))\n",
    "print(pt.release())\n",
    "print(pt.machine())\n",
    "print(pt.version())\n",
    "print(pt.system()) # very useful\n",
    "print(pt.uname())"
   ]
  },
  {
   "cell_type": "code",
   "execution_count": null,
   "id": "84f709da",
   "metadata": {},
   "outputs": [],
   "source": [
    "import os\n",
    "\n",
    "print(dir(os))"
   ]
  },
  {
   "cell_type": "code",
   "execution_count": null,
   "id": "028d5fe7",
   "metadata": {},
   "outputs": [],
   "source": [
    "print(dir(os.path))"
   ]
  },
  {
   "cell_type": "code",
   "execution_count": null,
   "id": "de94d447",
   "metadata": {},
   "outputs": [],
   "source": [
    "import os\n",
    "\n",
    "print(os.sep)\n",
    "path=\"c:\\\\users\\\\Shree\"\n",
    "print(path)\n",
    "print(os.getcwd())\n",
    "os.chdir(\"c:\\\\\")\n",
    "print(os.getcwd())\n",
    "print(os.listdir())\n",
    "os.chdir(\"c:\\\\Users\\\\Shree\")\n",
    "print(os.listdir())\n",
    "if os.path.exists(\"temp\"):\n",
    "    print(\"temp folder is already created\")\n",
    "else:\n",
    "    os.mkdir(\"temp\")\n",
    "#os.makedirs(\"c:\\\\dir1\\\\dir2\\\\dir3\")\n",
    "os.rmdir(\"temp\")\n",
    "os.removedirs(\"c:\\\\dir1\\\\dir2\\\\dir3\")"
   ]
  },
  {
   "cell_type": "code",
   "execution_count": null,
   "id": "5edd97c7",
   "metadata": {},
   "outputs": [],
   "source": [
    "import os\n",
    "\n",
    "print(os.path.dirname(\"c:\\\\users\\\\deva\\\\project\\\\python\"))\n",
    "print(os.path.basename(\"c:\\\\users\\\\deva\\\\project\\\\python\"))\n",
    "\n",
    "path1=\"c:\\\\users\\\\deva\"\n",
    "path2=\"project\\\\python\"\n",
    "print(path1+os.sep+path2)\n",
    "print(os.path.join(path1,path2))\n",
    "print(os.path.split(path1))\n",
    "print(os.path.exists(\"c:\\\\users\"))\n",
    "print(os.path.isdir(\"c:\\\\users\"))\n",
    "print(os.path.isfile(\"c:\\\\users\"))\n",
    "print(os.path.islink(\"c:\\\\users\"))"
   ]
  },
  {
   "cell_type": "code",
   "execution_count": null,
   "id": "45dbb6fd",
   "metadata": {},
   "outputs": [],
   "source": [
    "import os\n",
    "\n",
    "print(list(os.walk(\"c:\\\\test\")))\n",
    "\n",
    "for mypath,dirs,files in os.walk(\"c:\\\\test\"):\n",
    "    print(mypath)\n",
    "    if len(dirs)> 0:\n",
    "        for mydir in dirs:\n",
    "            print(\"directory is \",mydir)\n",
    "    if len(files)>0:\n",
    "        for myfiles in files:\n",
    "            print(\"files are\",myfiles)"
   ]
  },
  {
   "cell_type": "code",
   "execution_count": null,
   "id": "d4dbc570",
   "metadata": {},
   "outputs": [],
   "source": [
    "import datetime as dt\n",
    "\n",
    "print(dir(dt))\n",
    "today=dt.datetime.now() # To get todays date and time\n",
    "print(today)\n",
    "td1=dt.datetime.today() # To get todays date and time\n",
    "print(td1)\n",
    "# To deal with custom dates use date()\n",
    "mydate=dt.date(2020,4,1)\n",
    "print(\"From date\",mydate)\n",
    "# use attributes of object to deal with date month and year\n",
    "print(mydate.day,mydate.month,mydate.year)\n",
    "# timedelta is used to add offset to dates and calculate date differences\n",
    "nextdate=dt.timedelta(60)  # add offset of 60 days \n",
    "print(\"After 60 days next date is \",mydate+nextdate) # next date after 60 days \n",
    "dt1=dt.time(18,55,0) # time() is to use only time\n",
    "dt2=dt.time(10,15,0)\n",
    "print(dt1)\n",
    "print(dt2)\n",
    "# use strftime to format your date and time in required format\n",
    "print(today.strftime(\"%A,%B %d-%Y\"))\n",
    "dt1=input(\"Enter date in dd/mm/Year : \")\n",
    "# use strptime to get user input for date and time in required format\n",
    "fdate=dt.datetime.strptime(dt1,\"%Y/%m/%d\")\n",
    "print(fdate.strftime(\"%A,%B %d-%Y\"))"
   ]
  },
  {
   "cell_type": "code",
   "execution_count": 6,
   "id": "295a0bf8",
   "metadata": {},
   "outputs": [
    {
     "name": "stdout",
     "output_type": "stream",
     "text": [
      "['not']\n",
      "count of e in test string is  5\n",
      "['re', 're']\n"
     ]
    }
   ],
   "source": [
    "import re\n",
    "\n",
    "string=\"regex are not wildcards nor file globbing characters\"\n",
    "pattern=\"not\"\n",
    "print(re.findall(pattern,string))\n",
    "pattern=\"e\"\n",
    "print(\"count of e in test string is \",len(re.findall(pattern,string)))\n",
    "pattern=\"re\"\n",
    "print(re.findall(pattern,string))"
   ]
  },
  {
   "cell_type": "code",
   "execution_count": 24,
   "id": "a8cad47a",
   "metadata": {},
   "outputs": [
    {
     "name": "stdout",
     "output_type": "stream",
     "text": [
      "['@']\n",
      "['d', 'e', 'v', 'a', 'g', 'm', 'a', 'i', 'l', 'c', 'o', 'm']\n",
      "['de', 'va', 'gm', 'ai', 'co']\n",
      "['d', 'e', 'v', 'a', '_', '1', '2', '3', 'g', 'm', 'a', 'i', 'l', 'c', 'o', 'm']\n",
      "['@', '.']\n",
      "['1', '2', '3']\n",
      "['d', 'e', 'v', 'a', '_', '@', 'g', 'm', 'a', 'i', 'l', '.', 'c', 'o', 'm']\n",
      "['.']\n",
      "['deva', 'gmail', 'com']\n",
      "user name is  deva_123\n",
      "Domain name is  gmail.com\n"
     ]
    }
   ],
   "source": [
    "import re\n",
    "search_email=\"deva_123@gmail.com\"\n",
    "pattern=\"@\"\n",
    "print(re.findall(pattern,search_email))\n",
    "pattern=\"[a-z]\"\n",
    "print(re.findall(pattern,search_email))\n",
    "pattern=\"[a-z][a-z]\"\n",
    "print(re.findall(pattern,search_email))\n",
    "pattern=\"\\w\"\n",
    "print(re.findall(pattern,search_email))\n",
    "pattern=\"\\W\"\n",
    "print(re.findall(pattern,search_email))\n",
    "pattern=\"\\d\"\n",
    "print(re.findall(pattern,search_email))\n",
    "pattern=\"\\D\"\n",
    "print(re.findall(pattern,search_email))\n",
    "pattern=\"\\.\"\n",
    "print(re.findall(pattern,search_email))\n",
    "pattern=\"[a-z]+\"\n",
    "print(re.findall(pattern,search_email))\n",
    "pattern=\"[a-z\\.0-9_]+\"\n",
    "myemail=re.findall(pattern,search_email)\n",
    "print(\"user name is \",myemail[0])\n",
    "print(\"Domain name is \",myemail[1])\n",
    "#myemail=search_email.split(\"@\") # Note: split of str object works with only one token\n",
    "#print(\"user name is \",myemail[0]) # Note: use re.split() in case if you have multiple tokens\n",
    "#print(\"Domain name is \",myemail[1])"
   ]
  },
  {
   "cell_type": "code",
   "execution_count": 32,
   "id": "0b28928f",
   "metadata": {},
   "outputs": [
    {
     "name": "stdout",
     "output_type": "stream",
     "text": [
      "['192.168.10.1']\n"
     ]
    }
   ],
   "source": [
    "import re\n",
    "\n",
    "ip_address=\"192.168.10.1\"\n",
    "#pattern=\"\\d\\d\\d.\\d\\d\\d.\\d\\d.\\d$\"\n",
    "pattern=\"\\d{3}.\\d{3}.\\d{2}.\\d{1}\"\n",
    "print(re.findall(pattern,ip_address))"
   ]
  },
  {
   "cell_type": "code",
   "execution_count": 39,
   "id": "94c56aaa",
   "metadata": {},
   "outputs": [
    {
     "name": "stdout",
     "output_type": "stream",
     "text": [
      "['may']\n",
      "['you']\n",
      "['india']\n"
     ]
    }
   ],
   "source": [
    "import re\n",
    "\n",
    "test_string=\"may the source be with you\"\n",
    "pattern=\"^may\"\n",
    "print(re.findall(pattern,test_string))\n",
    "pattern=\"you$\"\n",
    "print(re.findall(pattern,test_string))\n",
    "test_string=\"redindians do not stay in india\"\n",
    "pattern=\"\\\\bindia\\\\b\"\n",
    "print(re.findall(pattern,test_string))"
   ]
  },
  {
   "cell_type": "code",
   "execution_count": 42,
   "id": "fd871390",
   "metadata": {},
   "outputs": [
    {
     "name": "stdout",
     "output_type": "stream",
     "text": [
      "['abc', 'abbc', 'abbbc', 'abc', 'abc']\n",
      "['ac', 'abc', 'abbc', 'abbbc', 'abc', 'abc']\n",
      "['ac', 'abc', 'abc', 'abc']\n"
     ]
    }
   ],
   "source": [
    "import re\n",
    "\n",
    "test_string=\"ac abc abbc abbbc abcabc\"\n",
    "pattern=\"ab+c\" # 1 or more of preceding characters\n",
    "print(re.findall(pattern,test_string))\n",
    "pattern=\"ab*c\" # 0 or more of preceding characters\n",
    "print(re.findall(pattern,test_string))\n",
    "pattern=\"ab?c\" # 0 or 1 of preceding characters\n",
    "print(re.findall(pattern,test_string))"
   ]
  },
  {
   "cell_type": "code",
   "execution_count": 52,
   "id": "cc3434a3",
   "metadata": {},
   "outputs": [
    {
     "name": "stdout",
     "output_type": "stream",
     "text": [
      "['A', 'B', 'C', 'D', 'E', 'Q']\n",
      "['ABCDE']\n",
      "['ABCDE1234Q']\n"
     ]
    }
   ],
   "source": [
    "import re\n",
    "\n",
    "PAN=\"ABCDE1234Q\"\n",
    "pattern=\"[A-Z]\"\n",
    "print(re.findall(pattern,PAN))\n",
    "pattern=\"[A-Z]{5}\"\n",
    "print(re.findall(pattern,PAN))\n",
    "pattern=\"[A-Z]{5}[0-9]{4}[A-Z]{1}$\"\n",
    "print(re.findall(pattern,PAN))"
   ]
  },
  {
   "cell_type": "code",
   "execution_count": 87,
   "id": "215a5c15",
   "metadata": {},
   "outputs": [
    {
     "name": "stdout",
     "output_type": "stream",
     "text": [
      "['re is used in web scraping', ' text processing ', ' and text data validation ', ' and to ', ' filter info TEXT']\n",
      "['text', 'text', 'TEXT']\n",
      "string is not present!\n",
      "re is used in web scraping, text processing @ and text data validation : and to ; filter info TEXT\n",
      "re is used in web scraping, hello processing @ and hello data validation : and to ; filter info TEXT\n"
     ]
    }
   ],
   "source": [
    "import re\n",
    "\n",
    "test_string=\"re is used in web scraping, text processing @ and text data validation : and to ; filter info TEXT\"\n",
    "print(re.split(',|@|:|;',test_string))\n",
    "print(re.findall(\"text\",test_string,re.I)) # ignore case using re.I flag with findall()\n",
    "match=re.search(\"python\",test_string)\n",
    "if match:\n",
    "    print(match)\n",
    "    print(\"Starting position of match is \",match.start())\n",
    "    print(\"Ending position of match is \",match.end())\n",
    "else:\n",
    "    print(\"string is not present!\")\n",
    "\n",
    "print(test_string)\n",
    "print(re.sub(\"text\",\"hello\",test_string,count=2,flags=re.I))"
   ]
  },
  {
   "cell_type": "code",
   "execution_count": 94,
   "id": "1f44968f",
   "metadata": {},
   "outputs": [
    {
     "name": "stdout",
     "output_type": "stream",
     "text": [
      "['python', 'python']\n",
      "<re.Match object; span=(0, 6), match='python'>\n",
      "<re.Match object; span=(0, 6), match='python'>\n",
      "dockers has huge support of third party libraries, dockers is easy\n",
      "['python', 'python']\n",
      "<re.Match object; span=(0, 6), match='python'>\n",
      "<re.Match object; span=(0, 6), match='python'>\n",
      "dockers has huge support of third party libraries, dockers is easy\n"
     ]
    }
   ],
   "source": [
    "import re\n",
    "\n",
    "test_string=\"python has huge support of third party libraries, python is easy\"\n",
    "pattern=\"python\"\n",
    "print(re.findall(pattern,test_string))\n",
    "print(re.search(pattern,test_string))\n",
    "print(re.match(pattern,test_string))\n",
    "print(re.sub(pattern,\"dockers\",test_string))\n",
    "\n",
    "obj=re.compile(pattern) # to convert your pattern into an object\n",
    "print(obj.findall(test_string)) # you can call all the functions of regular expression through that object\n",
    "print(obj.search(test_string))\n",
    "print(obj.match(test_string))\n",
    "print(obj.sub(\"dockers\",test_string))"
   ]
  },
  {
   "cell_type": "code",
   "execution_count": null,
   "id": "05c852a9",
   "metadata": {},
   "outputs": [],
   "source": []
  }
 ],
 "metadata": {
  "kernelspec": {
   "display_name": "Python 3 (ipykernel)",
   "language": "python",
   "name": "python3"
  },
  "language_info": {
   "codemirror_mode": {
    "name": "ipython",
    "version": 3
   },
   "file_extension": ".py",
   "mimetype": "text/x-python",
   "name": "python",
   "nbconvert_exporter": "python",
   "pygments_lexer": "ipython3",
   "version": "3.9.7"
  }
 },
 "nbformat": 4,
 "nbformat_minor": 5
}
